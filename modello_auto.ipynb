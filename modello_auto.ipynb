{
 "cells": [
  {
   "cell_type": "markdown",
   "metadata": {},
   "source": [
    "![title](IMG_20200503_183507.jpg)"
   ]
  },
  {
   "cell_type": "markdown",
   "metadata": {},
   "source": [
    "$$W_1 = C_m \\omega_m - J_m \\dot{\\omega_m} \\omega_m$$"
   ]
  },
  {
   "cell_type": "markdown",
   "metadata": {},
   "source": [
    "$$W_2 = -F_R V -(N_A + N_P) f_V R \\omega_R - 4 J_R \\dot{\\omega_R} \\omega_R - M a V$$"
   ]
  },
  {
   "cell_type": "markdown",
   "metadata": {},
   "source": [
    "Con $$F_R = \\frac{1}{2} \\mu C_x A V^2$$"
   ]
  },
  {
   "cell_type": "markdown",
   "metadata": {},
   "source": [
    "$$N_A + N_P = Mg$$"
   ]
  },
  {
   "cell_type": "markdown",
   "metadata": {},
   "source": [
    "Moto diretto"
   ]
  },
  {
   "cell_type": "markdown",
   "metadata": {},
   "source": [
    "$$\\eta W_1 + W_2 = 0$$\n",
    "Con $$\\eta$$ coefficiente di trasmissione"
   ]
  },
  {
   "cell_type": "markdown",
   "metadata": {},
   "source": [
    "$$\\omega_R = \\tau  \\omega_M$$"
   ]
  },
  {
   "cell_type": "markdown",
   "metadata": {},
   "source": [
    "$$\\omega_m = \\frac{V}{R\\tau}$$\n",
    "$$\\frac{\\eta C_M}{R \\tau} - \\frac{\\tau J_M}{R^2 \\tau^2} a - F_R - M g f_v - 4 \\frac{J_R}{R^2}a- Ma = 0$$"
   ]
  },
  {
   "cell_type": "markdown",
   "metadata": {},
   "source": [
    "$$a=\\frac{\\frac{\\eta C_M}{\\tau} - F_R - Mgf_V}{\\eta\\frac{J_M}{R^2 \\tau^2} + 4\\frac{J_R}{R^2} + M}$$"
   ]
  },
  {
   "cell_type": "code",
   "execution_count": 1,
   "metadata": {},
   "outputs": [],
   "source": [
    "import sympy"
   ]
  },
  {
   "cell_type": "code",
   "execution_count": 2,
   "metadata": {},
   "outputs": [],
   "source": [
    "M, a, Fr, Jr, R, Jm, A, V, t, m = sympy.symbols(\"M a Fr Jr R Jm A V t m\")"
   ]
  },
  {
   "cell_type": "code",
   "execution_count": 3,
   "metadata": {},
   "outputs": [],
   "source": [
    "g = 9.81\n",
    "\n",
    "#Attrito viscoso aria\n",
    "Cx = 0.4\n",
    "dens = 1.225\n",
    "\n",
    "#Attrito volvente ipotesi legno\n",
    "fv = 0.0015 \n",
    "\n",
    "# Da macchina a ruota\n",
    "tau = 1/4\n",
    "\n",
    "# Ipotesi coeff. di trasmissione\n",
    "n = 0.9"
   ]
  },
  {
   "cell_type": "code",
   "execution_count": 4,
   "metadata": {},
   "outputs": [
    {
     "data": {
      "text/latex": [
       "$\\displaystyle 0.277777777777778 Fr + 0.0040875 M + 0.277777777777778 a \\left(\\frac{14.4 Jm}{R} + \\frac{4 Jr}{R^{2}} + M\\right)$"
      ],
      "text/plain": [
       "0.277777777777778*Fr + 0.0040875*M + 0.277777777777778*a*(14.4*Jm/R + 4*Jr/R**2 + M)"
      ]
     },
     "execution_count": 4,
     "metadata": {},
     "output_type": "execute_result"
    }
   ],
   "source": [
    "Cm = (tau/n)*(a*((n*Jm/(R*tau**2)) + 4*Jr/R**2 + M) + Fr + M*g*fv)\n",
    "Cm"
   ]
  },
  {
   "cell_type": "code",
   "execution_count": 5,
   "metadata": {},
   "outputs": [
    {
     "data": {
      "text/latex": [
       "$\\displaystyle 0.0680555555555556 A V + 0.0040875 M + 0.277777777777778 a \\left(\\frac{14.4 Jm}{R} + \\frac{4 Jr}{R^{2}} + M\\right)$"
      ],
      "text/plain": [
       "0.0680555555555556*A*V + 0.0040875*M + 0.277777777777778*a*(14.4*Jm/R + 4*Jr/R**2 + M)"
      ]
     },
     "execution_count": 5,
     "metadata": {},
     "output_type": "execute_result"
    }
   ],
   "source": [
    "Cm = Cm.subs(Fr, (0.5 * dens * Cx * A * V))\n",
    "Cm"
   ]
  },
  {
   "cell_type": "code",
   "execution_count": 6,
   "metadata": {},
   "outputs": [
    {
     "data": {
      "text/latex": [
       "$\\displaystyle 0.0680555555555556 A V + 0.0040875 M + \\frac{0.277777777777778 V \\left(\\frac{14.4 Jm}{R} + \\frac{4 Jr}{R^{2}} + M\\right)}{t}$"
      ],
      "text/plain": [
       "0.0680555555555556*A*V + 0.0040875*M + 0.277777777777778*V*(14.4*Jm/R + 4*Jr/R**2 + M)/t"
      ]
     },
     "execution_count": 6,
     "metadata": {},
     "output_type": "execute_result"
    }
   ],
   "source": [
    "Cm = Cm.subs(a, V/t)\n",
    "Cm"
   ]
  },
  {
   "cell_type": "code",
   "execution_count": 7,
   "metadata": {},
   "outputs": [
    {
     "data": {
      "text/latex": [
       "$\\displaystyle 0.0680555555555556 A V + 0.0040875 M + \\frac{0.277777777777778 V \\left(\\frac{14.4 Jm}{R} + M + 2.0 m\\right)}{t}$"
      ],
      "text/plain": [
       "0.0680555555555556*A*V + 0.0040875*M + 0.277777777777778*V*(14.4*Jm/R + M + 2.0*m)/t"
      ]
     },
     "execution_count": 7,
     "metadata": {},
     "output_type": "execute_result"
    }
   ],
   "source": [
    "Cm = Cm.subs(Jr, 0.5*m*R**2)\n",
    "Cm"
   ]
  },
  {
   "cell_type": "markdown",
   "metadata": {},
   "source": [
    "Supponiamo di volere una macchina di 1Kg, con ruote da 0.01 Kg che va da 0 a 100 in 10 secondi, con area frontale di 20 x 5 cm = 100e-4 e raggio 3cm"
   ]
  },
  {
   "cell_type": "code",
   "execution_count": 8,
   "metadata": {},
   "outputs": [],
   "source": [
    "massaTotale = 1 #Kg\n",
    "massaRuota = 0.01 #Kg\n",
    "velocitaDaRaggiungere = 100 #Km/h\n",
    "inSecondi = 10 #s\n",
    "area = 100e-4 #m^2\n",
    "raggioRuota = 3e-2 #m"
   ]
  },
  {
   "cell_type": "code",
   "execution_count": 9,
   "metadata": {},
   "outputs": [
    {
     "data": {
      "text/latex": [
       "$\\displaystyle 1333.33333333333 Jm + 2.90547638888889$"
      ],
      "text/plain": [
       "1333.33333333333*Jm + 2.90547638888889"
      ]
     },
     "execution_count": 9,
     "metadata": {},
     "output_type": "execute_result"
    }
   ],
   "source": [
    "Cm.evalf().subs({M: massaTotale, m: massaRuota, V: velocitaDaRaggiungere, t: inSecondi, A: area, R:raggioRuota})"
   ]
  },
  {
   "cell_type": "code",
   "execution_count": 10,
   "metadata": {},
   "outputs": [],
   "source": [
    "from sympy.utilities.lambdify import lambdify"
   ]
  },
  {
   "cell_type": "code",
   "execution_count": 11,
   "metadata": {},
   "outputs": [],
   "source": [
    "# Coppia necessaria data inerzia motore\n",
    "coppia = lambdify(Jm, Cm.evalf().subs({M: massaTotale, m: massaRuota, V: velocitaDaRaggiungere, t: inSecondi, A: area, R:raggioRuota}))"
   ]
  },
  {
   "cell_type": "code",
   "execution_count": 12,
   "metadata": {},
   "outputs": [],
   "source": [
    "import numpy as np\n",
    "import matplotlib.pyplot as plt"
   ]
  },
  {
   "cell_type": "code",
   "execution_count": 13,
   "metadata": {},
   "outputs": [
    {
     "data": {
      "text/plain": [
       "Text(0, 0.5, 'coppia')"
      ]
     },
     "execution_count": 13,
     "metadata": {},
     "output_type": "execute_result"
    },
    {
     "data": {
      "image/png": "[encoded data removed]",
      "text/plain": [
       "<Figure size 432x288 with 1 Axes>"
      ]
     },
     "metadata": {
      "needs_background": "light"
     },
     "output_type": "display_data"
    }
   ],
   "source": [
    "valori_J = np.linspace(0, 1e-3, 2000)\n",
    "plt.plot(valori_J, coppia(valori_J))\n",
    "plt.xlabel('inerzia', fontsize=18)\n",
    "plt.ylabel('coppia', fontsize=16)"
   ]
  },
  {
   "cell_type": "markdown",
   "metadata": {},
   "source": [
    "https://www.orientalmotor.it/Products/Stepper_motors/Open_loop_stepper_motor_packages/Without_integrated_controller/microstep_cvk/"
   ]
  },
  {
   "cell_type": "code",
   "execution_count": 14,
   "metadata": {},
   "outputs": [
    {
     "data": {
      "text/plain": [
       "3.3588097222222224"
      ]
     },
     "execution_count": 14,
     "metadata": {},
     "output_type": "execute_result"
    }
   ],
   "source": [
    "coppia(3400e-7)"
   ]
  },
  {
   "cell_type": "markdown",
   "metadata": {},
   "source": [
    "## Calcolo coppia da rpm"
   ]
  },
  {
   "cell_type": "code",
   "execution_count": 15,
   "metadata": {},
   "outputs": [],
   "source": [
    "def calcola_Cm(RPM, Pm):\n",
    "    return Pm/(RPM * 2 * np.pi / 60)"
   ]
  },
  {
   "cell_type": "code",
   "execution_count": 16,
   "metadata": {},
   "outputs": [],
   "source": [
    "RPM = sympy.symbols(\"RPM\")\n",
    "Pm = sympy.symbols(\"Pm\")"
   ]
  },
  {
   "cell_type": "code",
   "execution_count": 17,
   "metadata": {},
   "outputs": [
    {
     "data": {
      "text/latex": [
       "$\\displaystyle \\frac{30 Pm}{\\pi RPM}$"
      ],
      "text/plain": [
       "30*Pm/(pi*RPM)"
      ]
     },
     "execution_count": 17,
     "metadata": {},
     "output_type": "execute_result"
    }
   ],
   "source": [
    "Cm = Pm/(RPM * 2 * sympy.pi / 60)\n",
    "Cm"
   ]
  },
  {
   "cell_type": "markdown",
   "metadata": {},
   "source": [
    "Es da motore Amazon:"
   ]
  },
  {
   "cell_type": "code",
   "execution_count": 18,
   "metadata": {},
   "outputs": [
    {
     "data": {
      "text/plain": [
       "0.0477464829275686"
      ]
     },
     "execution_count": 18,
     "metadata": {},
     "output_type": "execute_result"
    }
   ],
   "source": [
    "calcola_Cm(12e3, 60)"
   ]
  },
  {
   "cell_type": "code",
   "execution_count": 19,
   "metadata": {},
   "outputs": [
    {
     "data": {
      "text/latex": [
       "$\\displaystyle \\frac{\\pi CM RPM}{30}$"
      ],
      "text/plain": [
       "pi*CM*RPM/30"
      ]
     },
     "execution_count": 19,
     "metadata": {},
     "output_type": "execute_result"
    }
   ],
   "source": [
    "CM = sympy.symbols(\"CM\")\n",
    "PM = CM * (RPM * 2 * sympy.pi / 60)\n",
    "PM"
   ]
  },
  {
   "cell_type": "code",
   "execution_count": 20,
   "metadata": {},
   "outputs": [],
   "source": [
    "calcola_PM = lambdify(RPM, PM.evalf().subs({CM:3.3}))"
   ]
  },
  {
   "cell_type": "code",
   "execution_count": 21,
   "metadata": {},
   "outputs": [
    {
     "data": {
      "text/plain": [
       "6911.5038378975405"
      ]
     },
     "execution_count": 21,
     "metadata": {},
     "output_type": "execute_result"
    }
   ],
   "source": [
    "calcola_PM(20e3)"
   ]
  },
  {
   "cell_type": "code",
   "execution_count": 22,
   "metadata": {},
   "outputs": [
    {
     "data": {
      "text/plain": [
       "Text(0, 0.5, 'Potenza')"
      ]
     },
     "execution_count": 22,
     "metadata": {},
     "output_type": "execute_result"
    },
    {
     "data": {
      "image/png": "[encoded data removed]",
      "text/plain": [
       "<Figure size 432x288 with 1 Axes>"
      ]
     },
     "metadata": {
      "needs_background": "light"
     },
     "output_type": "display_data"
    }
   ],
   "source": [
    "valori_RPM = np.linspace(0, 20e3, 2000)\n",
    "plt.plot(valori_RPM, calcola_PM(valori_RPM))\n",
    "plt.xlabel('RPM', fontsize=18)\n",
    "plt.ylabel('Potenza', fontsize=16)"
   ]
  },
  {
   "cell_type": "markdown",
   "metadata": {},
   "source": [
    "## Coppia a regime data V di regime:"
   ]
  },
  {
   "cell_type": "markdown",
   "metadata": {},
   "source": [
    "$$V_0 = \\sqrt{\\frac{\\frac{\\eta C_m}{R\\tau} - Mgf_v}{1/2*\\rho A C_x}}$$"
   ]
  },
  {
   "cell_type": "markdown",
   "metadata": {},
   "source": [
    "$$C_m = (\\frac{V_0^2 \\rho A C_x}{2} + Mgf_v) R \\frac{\\tau}{\\eta}$$"
   ]
  },
  {
   "cell_type": "code",
   "execution_count": 23,
   "metadata": {},
   "outputs": [
    {
     "data": {
      "text/latex": [
       "$\\displaystyle 2.02030508910442 \\sqrt{\\frac{- 0.014715 M + \\frac{108.0 Pm}{\\pi R RPM}}{A}}$"
      ],
      "text/plain": [
       "2.02030508910442*sqrt((-0.014715*M + 108.0*Pm/(pi*R*RPM))/A)"
      ]
     },
     "execution_count": 23,
     "metadata": {},
     "output_type": "execute_result"
    }
   ],
   "source": [
    "V0 = sympy.sqrt(((n*Cm/(R*tau)) - M*g*fv)/(0.5*dens*A*Cx))\n",
    "V0"
   ]
  },
  {
   "cell_type": "code",
   "execution_count": 24,
   "metadata": {},
   "outputs": [],
   "source": [
    "V0 = sympy.symbols(\"V0\")"
   ]
  },
  {
   "cell_type": "code",
   "execution_count": 25,
   "metadata": {},
   "outputs": [
    {
     "data": {
      "text/latex": [
       "$\\displaystyle 0.277777777777778 R \\left(0.245 A V_{0}^{2} + 0.014715 M\\right)$"
      ],
      "text/plain": [
       "0.277777777777778*R*(0.245*A*V0**2 + 0.014715*M)"
      ]
     },
     "execution_count": 25,
     "metadata": {},
     "output_type": "execute_result"
    }
   ],
   "source": [
    "CmRegime = (((V0**2)*dens*A*Cx)/2 + M*g*fv)*R*(tau/n)\n",
    "CmRegime"
   ]
  },
  {
   "cell_type": "code",
   "execution_count": 26,
   "metadata": {},
   "outputs": [],
   "source": [
    "coppia = lambdify(V0, CmRegime.evalf().subs({M: massaTotale, A: area, R:raggioRuota}))"
   ]
  },
  {
   "cell_type": "code",
   "execution_count": 27,
   "metadata": {},
   "outputs": [
    {
     "data": {
      "text/plain": [
       "0.204289291666667"
      ]
     },
     "execution_count": 27,
     "metadata": {},
     "output_type": "execute_result"
    }
   ],
   "source": [
    "# Coppia a regime in Nm\n",
    "coppia(velocitaDaRaggiungere)"
   ]
  },
  {
   "cell_type": "markdown",
   "metadata": {},
   "source": [
    "https://www.distrelec.it/it/motore-passo-passo-ibrido-1nm-nema-24-trinamic-qsh6018-65-28-210/p/15422354"
   ]
  },
  {
   "cell_type": "markdown",
   "metadata": {},
   "source": [
    "https://www.orientalmotor.it/Products/Brushless_dc_motors/Dc_input/blh2_analog/?filter1=Stirnradgetriebe&filter2=90+mm"
   ]
  },
  {
   "cell_type": "markdown",
   "metadata": {},
   "source": [
    "## Verifica di aderenza"
   ]
  },
  {
   "cell_type": "code",
   "execution_count": 28,
   "metadata": {},
   "outputs": [],
   "source": [
    "# TODO"
   ]
  }
 ],
 "metadata": {
  "kernelspec": {
   "display_name": "TF2",
   "language": "python",
   "name": "tf2"
  },
  "language_info": {
   "codemirror_mode": {
    "name": "ipython",
    "version": 3
   },
   "file_extension": ".py",
   "mimetype": "text/x-python",
   "name": "python",
   "nbconvert_exporter": "python",
   "pygments_lexer": "ipython3",
   "version": "3.6.8"
  }
 },
 "nbformat": 4,
 "nbformat_minor": 4
}
